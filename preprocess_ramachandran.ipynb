{
  "nbformat": 4,
  "nbformat_minor": 0,
  "metadata": {
    "colab": {
      "provenance": []
    },
    "kernelspec": {
      "name": "python3",
      "display_name": "Python 3"
    },
    "language_info": {
      "name": "python"
    }
  },
  "cells": [
    {
      "cell_type": "markdown",
      "source": [
        "# Preprocess Ramachandran dataset\n",
        "\n",
        "This notebook preprocesses a Raw.TAR file that consists of healthy and diseased liver samples and converts them into H5AD files. The goal is to use the processed H5AD files to generate embeddings using scGPT.\n",
        "\n",
        "The data used can be found [here](https://www.ncbi.nlm.nih.gov/geo/query/acc.cgi?acc=GSE136103)."
      ],
      "metadata": {
        "id": "3KnHISbODXlv"
      }
    },
    {
      "cell_type": "markdown",
      "source": [
        "# Install and Imports"
      ],
      "metadata": {
        "id": "qomUvRM1KAk7"
      }
    },
    {
      "cell_type": "code",
      "execution_count": null,
      "metadata": {
        "colab": {
          "base_uri": "https://localhost:8080/"
        },
        "id": "eWTFyXvl0WOC",
        "outputId": "3c77acb3-c3d1-4ef4-922e-bb6536449a50"
      },
      "outputs": [
        {
          "output_type": "stream",
          "name": "stdout",
          "text": [
            "\u001b[?25l   \u001b[90m━━━━━━━━━━━━━━━━━━━━━━━━━━━━━━━━━━━━━━━━\u001b[0m \u001b[32m0.0/2.1 MB\u001b[0m \u001b[31m?\u001b[0m eta \u001b[36m-:--:--\u001b[0m\r\u001b[2K   \u001b[91m━━━━━━\u001b[0m\u001b[91m╸\u001b[0m\u001b[90m━━━━━━━━━━━━━━━━━━━━━━━━━━━━━━━━━\u001b[0m \u001b[32m0.4/2.1 MB\u001b[0m \u001b[31m10.8 MB/s\u001b[0m eta \u001b[36m0:00:01\u001b[0m\r\u001b[2K   \u001b[91m━━━━━━━━━━━━━━━━━━━━━━━━━━━━━━━━━━━━━━━\u001b[0m\u001b[91m╸\u001b[0m \u001b[32m2.1/2.1 MB\u001b[0m \u001b[31m31.6 MB/s\u001b[0m eta \u001b[36m0:00:01\u001b[0m\r\u001b[2K   \u001b[90m━━━━━━━━━━━━━━━━━━━━━━━━━━━━━━━━━━━━━━━━\u001b[0m \u001b[32m2.1/2.1 MB\u001b[0m \u001b[31m22.6 MB/s\u001b[0m eta \u001b[36m0:00:00\u001b[0m\n",
            "\u001b[2K   \u001b[90m━━━━━━━━━━━━━━━━━━━━━━━━━━━━━━━━━━━━━━━━\u001b[0m \u001b[32m169.9/169.9 kB\u001b[0m \u001b[31m8.3 MB/s\u001b[0m eta \u001b[36m0:00:00\u001b[0m\n",
            "\u001b[2K   \u001b[90m━━━━━━━━━━━━━━━━━━━━━━━━━━━━━━━━━━━━━━━━\u001b[0m \u001b[32m58.2/58.2 kB\u001b[0m \u001b[31m2.6 MB/s\u001b[0m eta \u001b[36m0:00:00\u001b[0m\n",
            "\u001b[2K   \u001b[90m━━━━━━━━━━━━━━━━━━━━━━━━━━━━━━━━━━━━━━━━\u001b[0m \u001b[32m276.4/276.4 kB\u001b[0m \u001b[31m10.7 MB/s\u001b[0m eta \u001b[36m0:00:00\u001b[0m\n",
            "\u001b[2K   \u001b[90m━━━━━━━━━━━━━━━━━━━━━━━━━━━━━━━━━━━━━━━━\u001b[0m \u001b[32m8.8/8.8 MB\u001b[0m \u001b[31m78.7 MB/s\u001b[0m eta \u001b[36m0:00:00\u001b[0m\n",
            "\u001b[2K   \u001b[90m━━━━━━━━━━━━━━━━━━━━━━━━━━━━━━━━━━━━━━━━\u001b[0m \u001b[32m53.5/53.5 kB\u001b[0m \u001b[31m3.0 MB/s\u001b[0m eta \u001b[36m0:00:00\u001b[0m\n",
            "\u001b[?25h"
          ]
        }
      ],
      "source": [
        "!pip install -q scanpy anndata"
      ]
    },
    {
      "cell_type": "code",
      "source": [
        "import scanpy as sc\n",
        "import anndata as ad\n",
        "import os\n",
        "import scipy\n",
        "import pandas as pd\n",
        "import matplotlib.pyplot as plt\n",
        "import numpy as np"
      ],
      "metadata": {
        "id": "lt1waYwn0cwC"
      },
      "execution_count": null,
      "outputs": []
    },
    {
      "cell_type": "markdown",
      "source": [
        "## Load Data\n",
        "\n",
        "This part loads in the TAR file and separates the healthy and diseased samples and groups them into their respective subfolders"
      ],
      "metadata": {
        "id": "TuCeNEM1KG8L"
      }
    },
    {
      "cell_type": "code",
      "source": [
        "# --- Separate samples into subfolders ---\n",
        "\n",
        "# Path to the main folder containing all sample folders\n",
        "main_path = '/content/drive/MyDrive/projects/scGPT-MAFLD/reference/GSE136103/'\n",
        "\n",
        "# List all sample folders\n",
        "all_samples = [f for f in os.listdir(main_path) if os.path.isdir(os.path.join(main_path, f))]\n",
        "\n",
        "# Create dictionaries\n",
        "healthy_samples = {}\n",
        "diseased_samples = {}\n",
        "\n",
        "for sample in all_samples:\n",
        "    sample_path = os.path.join(main_path, sample)\n",
        "    sample_lower = sample.lower()\n",
        "\n",
        "    # Skip blood and mouse samples\n",
        "    if \"blood\" in sample_lower or \"mouse\" in sample_lower:\n",
        "        continue\n",
        "\n",
        "    if \"healthy\" in sample_lower:\n",
        "        healthy_samples[sample] = sample_path\n",
        "    elif \"cirrhotic\" in sample_lower or \"fibrotic\" in sample_lower:\n",
        "        diseased_samples[sample] = sample_path\n",
        "\n",
        "print(\"Healthy samples:\", healthy_samples)\n",
        "print(\"Diseased samples:\", diseased_samples)\n"
      ],
      "metadata": {
        "colab": {
          "base_uri": "https://localhost:8080/"
        },
        "id": "9SdvwAqe1JXD",
        "outputId": "8f79cb82-fa09-40cb-f2a4-adb414647baf"
      },
      "execution_count": null,
      "outputs": [
        {
          "output_type": "stream",
          "name": "stdout",
          "text": [
            "Healthy samples: {'GSM4041150_healthy1_cd45+': '/content/drive/MyDrive/projects/scGPT-MAFLD/reference/GSE136103/GSM4041150_healthy1_cd45+', 'GSM4041151_healthy1_cd45-A': '/content/drive/MyDrive/projects/scGPT-MAFLD/reference/GSE136103/GSM4041151_healthy1_cd45-A', 'GSM4041152_healthy1_cd45-B': '/content/drive/MyDrive/projects/scGPT-MAFLD/reference/GSE136103/GSM4041152_healthy1_cd45-B', 'GSM4041153_healthy2_cd45+': '/content/drive/MyDrive/projects/scGPT-MAFLD/reference/GSE136103/GSM4041153_healthy2_cd45+', 'GSM4041154_healthy2_cd45-': '/content/drive/MyDrive/projects/scGPT-MAFLD/reference/GSE136103/GSM4041154_healthy2_cd45-', 'GSM4041155_healthy3_cd45+': '/content/drive/MyDrive/projects/scGPT-MAFLD/reference/GSE136103/GSM4041155_healthy3_cd45+', 'GSM4041156_healthy3_cd45-A': '/content/drive/MyDrive/projects/scGPT-MAFLD/reference/GSE136103/GSM4041156_healthy3_cd45-A', 'GSM4041157_healthy3_cd45-B': '/content/drive/MyDrive/projects/scGPT-MAFLD/reference/GSE136103/GSM4041157_healthy3_cd45-B', 'GSM4041158_healthy4_cd45+': '/content/drive/MyDrive/projects/scGPT-MAFLD/reference/GSE136103/GSM4041158_healthy4_cd45+', 'GSM4041159_healthy4_cd45-': '/content/drive/MyDrive/projects/scGPT-MAFLD/reference/GSE136103/GSM4041159_healthy4_cd45-', 'GSM4041160_healthy5_cd45+': '/content/drive/MyDrive/projects/scGPT-MAFLD/reference/GSE136103/GSM4041160_healthy5_cd45+'}\n",
            "Diseased samples: {'GSM4041161_cirrhotic1_cd45+': '/content/drive/MyDrive/projects/scGPT-MAFLD/reference/GSE136103/GSM4041161_cirrhotic1_cd45+', 'GSM4041162_cirrhotic1_cd45-A': '/content/drive/MyDrive/projects/scGPT-MAFLD/reference/GSE136103/GSM4041162_cirrhotic1_cd45-A', 'GSM4041163_cirrhotic1_cd45-B': '/content/drive/MyDrive/projects/scGPT-MAFLD/reference/GSE136103/GSM4041163_cirrhotic1_cd45-B', 'GSM4041164_cirrhotic2_cd45+': '/content/drive/MyDrive/projects/scGPT-MAFLD/reference/GSE136103/GSM4041164_cirrhotic2_cd45+', 'GSM4041165_cirrhotic2_cd45-': '/content/drive/MyDrive/projects/scGPT-MAFLD/reference/GSE136103/GSM4041165_cirrhotic2_cd45-', 'GSM4041166_cirrhotic3_cd45+': '/content/drive/MyDrive/projects/scGPT-MAFLD/reference/GSE136103/GSM4041166_cirrhotic3_cd45+', 'GSM4041167_cirrhotic3_cd45-': '/content/drive/MyDrive/projects/scGPT-MAFLD/reference/GSE136103/GSM4041167_cirrhotic3_cd45-', 'GSM4041168_cirrhotic4_cd45+': '/content/drive/MyDrive/projects/scGPT-MAFLD/reference/GSE136103/GSM4041168_cirrhotic4_cd45+', 'GSM4041169_cirrhotic5_cd45+': '/content/drive/MyDrive/projects/scGPT-MAFLD/reference/GSE136103/GSM4041169_cirrhotic5_cd45+'}\n"
          ]
        }
      ]
    },
    {
      "cell_type": "code",
      "source": [
        "print(len(healthy_samples))\n",
        "print(len(diseased_samples))"
      ],
      "metadata": {
        "colab": {
          "base_uri": "https://localhost:8080/"
        },
        "id": "KFu0WB7M2Faq",
        "outputId": "b119a42a-3833-479f-dc4b-29e6006b216e"
      },
      "execution_count": null,
      "outputs": [
        {
          "output_type": "stream",
          "name": "stdout",
          "text": [
            "11\n",
            "9\n"
          ]
        }
      ]
    },
    {
      "cell_type": "markdown",
      "source": [
        "## Create Functions\n",
        "\n",
        "The functions created do the following:\n",
        "1. Load and merge samples into healthy and cirrhotic\n",
        "2. Calculate QC metrics\n",
        "3. Analyse QC and set thresholds\n",
        "4. Apply filtering based on the thresholds\n",
        "5. Process data, which runs all the above functions for all samples and creates a H5AD file"
      ],
      "metadata": {
        "id": "3x8MKdMhKrNh"
      }
    },
    {
      "cell_type": "code",
      "source": [
        "def load_and_merge_samples(sample_dirs, group_name):\n",
        "    \"\"\"\n",
        "    Load and merge multiple 10X samples into one AnnData object with Ensembl IDs as index\n",
        "    and gene symbols as metadata. Removes redundant 'gene_ids' column.\n",
        "    Handles both v2 (2-column) and v3 (3-column) features.tsv.gz formats.\n",
        "    \"\"\"\n",
        "    import os\n",
        "    import scipy.io\n",
        "    import scanpy as sc\n",
        "    import pandas as pd\n",
        "\n",
        "    adatas = []\n",
        "    for sample_id, sample_path in sample_dirs.items():\n",
        "        print(f\"Loading sample: {sample_id}\")\n",
        "\n",
        "        # Load raw 10X files\n",
        "        matrix = scipy.io.mmread(os.path.join(sample_path, \"matrix.mtx.gz\")).T.tocsr()\n",
        "        barcodes = pd.read_csv(os.path.join(sample_path, \"barcodes.tsv.gz\"),\n",
        "                               header=None, sep=\"\\t\")[0].values\n",
        "        genes = pd.read_csv(os.path.join(sample_path, \"genes.tsv.gz\"),\n",
        "                            header=None, sep=\"\\t\")\n",
        "\n",
        "        # Handle v2 (2 cols) vs v3 (3 cols)\n",
        "        if genes.shape[1] == 2:\n",
        "            gene_ids = genes[0].values\n",
        "            gene_symbols = genes[1].values\n",
        "        elif genes.shape[1] >= 3:\n",
        "            gene_ids = genes[0].values\n",
        "            gene_symbols = genes[1].values\n",
        "        else:\n",
        "            raise ValueError(f\"Unexpected genes.tsv.gz format in {sample_id}\")\n",
        "\n",
        "        # Build AnnData\n",
        "        adata = sc.AnnData(matrix)\n",
        "        adata.obs_names = barcodes\n",
        "        adata.var_names = gene_ids\n",
        "        adata.var[\"gene_symbols\"] = gene_symbols  # keep only symbols as metadata\n",
        "\n",
        "        # Metadata\n",
        "        adata.obs[\"sample_id\"] = sample_id\n",
        "        adata.obs[\"batch\"] = sample_id\n",
        "\n",
        "        adatas.append(adata)\n",
        "\n",
        "    # Merge samples, keep all var columns\n",
        "    merged_adata = sc.concat(adatas, join=\"outer\", merge=\"same\")\n",
        "    merged_adata.obs[\"group\"] = group_name\n",
        "\n",
        "    print(f\"Merged {group_name} dataset: {merged_adata.n_obs} cells, {merged_adata.n_vars} genes\")\n",
        "    print(f\"Var columns: {merged_adata.var.columns.tolist()}\")\n",
        "    return merged_adata"
      ],
      "metadata": {
        "id": "WV6i0v6b0evq"
      },
      "execution_count": null,
      "outputs": []
    },
    {
      "cell_type": "code",
      "source": [
        "def calculate_qc_metrics(adata):\n",
        "    \"\"\"\n",
        "    Calculate quality control metrics for single-cell data\n",
        "\n",
        "    Parameters:\n",
        "    -----------\n",
        "    adata : AnnData\n",
        "        AnnData object with gene_symbols in adata.var\n",
        "\n",
        "    Returns:\n",
        "    --------\n",
        "    adata : AnnData\n",
        "        AnnData object with QC metrics added\n",
        "    \"\"\"\n",
        "    print(\"Calculating QC metrics...\")\n",
        "\n",
        "    # Identify gene types using gene symbols\n",
        "    adata.var[\"mt\"] = adata.var[\"gene_symbols\"].str.startswith(\"MT-\")\n",
        "    adata.var[\"ribo\"] = adata.var[\"gene_symbols\"].str.startswith((\"RPS\", \"RPL\"))\n",
        "    adata.var[\"hb\"] = adata.var[\"gene_symbols\"].str.contains(\"^HB[^(P)]\")\n",
        "\n",
        "    # Calculate QC metrics\n",
        "    sc.pp.calculate_qc_metrics(\n",
        "        adata, qc_vars=[\"mt\", \"ribo\", \"hb\"], inplace=True, log1p=True\n",
        "    )\n",
        "\n",
        "    # Print summary\n",
        "    print(f\"MT genes detected: {adata.var['mt'].sum()}\")\n",
        "    print(f\"Ribosomal genes detected: {adata.var['ribo'].sum()}\")\n",
        "    print(f\"Hemoglobin genes detected: {adata.var['hb'].sum()}\")\n",
        "    print(f\"Mean MT%: {adata.obs['pct_counts_mt'].mean():.2f}%\")\n",
        "    print(f\"Mean ribosomal%: {adata.obs['pct_counts_ribo'].mean():.2f}%\")\n",
        "\n",
        "    return adata"
      ],
      "metadata": {
        "id": "MwANv8QT2yIY"
      },
      "execution_count": null,
      "outputs": []
    },
    {
      "cell_type": "code",
      "source": [
        "def analyze_qc_and_get_thresholds(adata, plot=True):\n",
        "    \"\"\"\n",
        "    Analyze QC metrics and suggest filtering thresholds\n",
        "\n",
        "    Parameters:\n",
        "    -----------\n",
        "    adata : AnnData\n",
        "        AnnData object with calculated QC metrics\n",
        "    plot : bool\n",
        "        Whether to create QC plots\n",
        "\n",
        "    Returns:\n",
        "    --------\n",
        "    thresholds : dict\n",
        "        Dictionary containing recommended filtering thresholds\n",
        "    \"\"\"\n",
        "    print(\" \")\n",
        "    print(\"=== QC METRICS ANALYSIS ===\")\n",
        "    print(f\"Total cells: {adata.n_obs}\")\n",
        "    print(f\"Total genes: {adata.n_vars}\")\n",
        "\n",
        "    # Basic statistics\n",
        "    print(\" \")\n",
        "    print(\"=== PER-CELL METRICS ===\")\n",
        "    metrics = ['n_genes_by_counts', 'total_counts', 'pct_counts_mt', 'pct_counts_ribo']\n",
        "    for metric in metrics:\n",
        "        values = adata.obs[metric]\n",
        "        print(f\"{metric}:\")\n",
        "        print(f\"  Mean: {values.mean():.1f}\")\n",
        "        print(f\"  Median: {values.median():.1f}\")\n",
        "        print(f\"  5th-95th percentile: {values.quantile(0.05):.1f} - {values.quantile(0.95):.1f}\")\n",
        "\n",
        "    # Calculate suggested thresholds\n",
        "    genes_5th = adata.obs['n_genes_by_counts'].quantile(0.05)\n",
        "    genes_95th = adata.obs['n_genes_by_counts'].quantile(0.95)\n",
        "    counts_5th = adata.obs['total_counts'].quantile(0.05)\n",
        "    counts_95th = adata.obs['total_counts'].quantile(0.95)\n",
        "\n",
        "    # MT threshold calculation\n",
        "    mt_95th = adata.obs['pct_counts_mt'].quantile(0.95)\n",
        "    mt_mad = np.median(adata.obs['pct_counts_mt']) + 3 * np.median(\n",
        "        np.abs(adata.obs['pct_counts_mt'] - np.median(adata.obs['pct_counts_mt']))\n",
        "    )\n",
        "    mt_threshold = min(mt_95th, mt_mad, 20)  # Cap at 20%\n",
        "\n",
        "    # Gene filtering threshold\n",
        "    cells_threshold = max(3, int(0.001 * adata.n_obs))\n",
        "\n",
        "    thresholds = {\n",
        "        'min_genes': int(genes_5th),\n",
        "        'max_genes': int(genes_95th),\n",
        "        'min_counts': int(counts_5th),\n",
        "        'max_counts': int(counts_95th),\n",
        "        'max_mt_pct': round(mt_threshold, 1),\n",
        "        'min_cells_per_gene': cells_threshold\n",
        "    }\n",
        "\n",
        "    print(\" \")\n",
        "    print(\"=== SUGGESTED FILTERING THRESHOLDS ===\")\n",
        "    print(f\"Genes per cell: {thresholds['min_genes']} - {thresholds['max_genes']}\")\n",
        "    print(f\"UMI counts: {thresholds['min_counts']} - {thresholds['max_counts']}\")\n",
        "    print(f\"MT percentage: < {thresholds['max_mt_pct']}%\")\n",
        "    print(f\"Genes expressed in >= {thresholds['min_cells_per_gene']} cells\")\n",
        "\n",
        "    # Estimate retention\n",
        "    cell_filter = (\n",
        "        (adata.obs['n_genes_by_counts'] >= thresholds['min_genes']) &\n",
        "        (adata.obs['n_genes_by_counts'] <= thresholds['max_genes']) &\n",
        "        (adata.obs['total_counts'] >= thresholds['min_counts']) &\n",
        "        (adata.obs['total_counts'] <= thresholds['max_counts']) &\n",
        "        (adata.obs['pct_counts_mt'] <= thresholds['max_mt_pct'])\n",
        "    )\n",
        "    gene_filter = adata.var['n_cells_by_counts'] >= thresholds['min_cells_per_gene']\n",
        "\n",
        "    print(f\"Estimated retention:\")\n",
        "    print(f\"Cells: {cell_filter.sum()} / {adata.n_obs} ({cell_filter.sum()/adata.n_obs*100:.1f}%)\")\n",
        "    print(f\"Genes: {gene_filter.sum()} / {adata.n_vars} ({gene_filter.sum()/adata.n_vars*100:.1f}%)\")\n",
        "\n",
        "    if plot:\n",
        "        # Create QC plots\n",
        "        fig, axes = plt.subplots(2, 3, figsize=(15, 10))\n",
        "\n",
        "        # Histograms\n",
        "        axes[0,0].hist(adata.obs['n_genes_by_counts'], bins=50, alpha=0.7)\n",
        "        axes[0,0].axvline(thresholds['min_genes'], color='red', linestyle='--', label=f'Min: {thresholds[\"min_genes\"]}')\n",
        "        axes[0,0].axvline(thresholds['max_genes'], color='red', linestyle='--', label=f'Max: {thresholds[\"max_genes\"]}')\n",
        "        axes[0,0].set_xlabel('Number of genes')\n",
        "        axes[0,0].set_ylabel('Number of cells')\n",
        "        axes[0,0].set_title('Genes per cell')\n",
        "        axes[0,0].legend()\n",
        "\n",
        "        axes[0,1].hist(adata.obs['total_counts'], bins=50, alpha=0.7)\n",
        "        axes[0,1].axvline(thresholds['min_counts'], color='red', linestyle='--', label=f'Min: {thresholds[\"min_counts\"]}')\n",
        "        axes[0,1].axvline(thresholds['max_counts'], color='red', linestyle='--', label=f'Max: {thresholds[\"max_counts\"]}')\n",
        "        axes[0,1].set_xlabel('Total UMI counts')\n",
        "        axes[0,1].set_ylabel('Number of cells')\n",
        "        axes[0,1].set_title('UMI counts per cell')\n",
        "        axes[0,1].legend()\n",
        "\n",
        "        axes[0,2].hist(adata.obs['pct_counts_mt'], bins=50, alpha=0.7)\n",
        "        axes[0,2].axvline(thresholds['max_mt_pct'], color='red', linestyle='--', label=f'Max: {thresholds[\"max_mt_pct\"]}%')\n",
        "        axes[0,2].set_xlabel('Mitochondrial gene %')\n",
        "        axes[0,2].set_ylabel('Number of cells')\n",
        "        axes[0,2].set_title('MT% per cell')\n",
        "        axes[0,2].legend()\n",
        "\n",
        "        axes[1,0].hist(adata.var['n_cells_by_counts'], bins=50, alpha=0.7)\n",
        "        axes[1,0].axvline(thresholds['min_cells_per_gene'], color='red', linestyle='--', label=f'Min: {thresholds[\"min_cells_per_gene\"]}')\n",
        "        axes[1,0].set_xlabel('Number of cells')\n",
        "        axes[1,0].set_ylabel('Number of genes')\n",
        "        axes[1,0].set_title('Cells per gene')\n",
        "        axes[1,0].set_yscale('log')\n",
        "        axes[1,0].legend()\n",
        "\n",
        "        # Scatter plots\n",
        "        axes[1,1].scatter(adata.obs['total_counts'], adata.obs['n_genes_by_counts'], alpha=0.5, s=1)\n",
        "        axes[1,1].set_xlabel('Total UMI counts')\n",
        "        axes[1,1].set_ylabel('Number of genes')\n",
        "        axes[1,1].set_title('Total counts vs Genes detected')\n",
        "\n",
        "        axes[1,2].scatter(adata.obs['total_counts'], adata.obs['pct_counts_mt'], alpha=0.5, s=1)\n",
        "        axes[1,2].set_xlabel('Total UMI counts')\n",
        "        axes[1,2].set_ylabel('Mitochondrial gene %')\n",
        "        axes[1,2].set_title('Total counts vs MT%')\n",
        "\n",
        "        plt.tight_layout()\n",
        "        plt.show()\n",
        "\n",
        "    return thresholds"
      ],
      "metadata": {
        "id": "-ddpjmjp20rZ"
      },
      "execution_count": null,
      "outputs": []
    },
    {
      "cell_type": "code",
      "source": [
        "def apply_filtering(adata, thresholds):\n",
        "    \"\"\"\n",
        "    Apply filtering based on provided thresholds\n",
        "\n",
        "    Parameters:\n",
        "    -----------\n",
        "    adata : AnnData\n",
        "        AnnData object to filter\n",
        "    thresholds : dict\n",
        "        Dictionary with filtering thresholds from analyze_qc_and_get_thresholds()\n",
        "\n",
        "    Returns:\n",
        "    --------\n",
        "    adata : AnnData\n",
        "        Filtered AnnData object\n",
        "    \"\"\"\n",
        "    print(\" \")\n",
        "    print(\"=== APPLYING FILTERING ===\")\n",
        "    print(f\"Before filtering: {adata.n_obs} cells, {adata.n_vars} genes\")\n",
        "\n",
        "    # Filter genes first (expressed in at least min_cells_per_gene cells)\n",
        "    sc.pp.filter_genes(adata, min_cells=thresholds['min_cells_per_gene'])\n",
        "    print(f\"After gene filtering (>= {thresholds['min_cells_per_gene']} cells): {adata.n_vars} genes\")\n",
        "\n",
        "    # Filter cells based on gene counts\n",
        "    adata = adata[adata.obs.n_genes_by_counts >= thresholds['min_genes'], :]\n",
        "    print(f\"After min genes filtering (>= {thresholds['min_genes']}): {adata.n_obs} cells\")\n",
        "\n",
        "    adata = adata[adata.obs.n_genes_by_counts <= thresholds['max_genes'], :]\n",
        "    print(f\"After max genes filtering (<= {thresholds['max_genes']}): {adata.n_obs} cells\")\n",
        "\n",
        "    # Filter cells based on UMI counts\n",
        "    adata = adata[adata.obs.total_counts >= thresholds['min_counts'], :]\n",
        "    print(f\"After min UMI filtering (>= {thresholds['min_counts']}): {adata.n_obs} cells\")\n",
        "\n",
        "    adata = adata[adata.obs.total_counts <= thresholds['max_counts'], :]\n",
        "    print(f\"After max UMI filtering (<= {thresholds['max_counts']}): {adata.n_obs} cells\")\n",
        "\n",
        "    # Filter cells with high mitochondrial percentage\n",
        "    adata = adata[adata.obs.pct_counts_mt <= thresholds['max_mt_pct'], :]\n",
        "    print(f\"After MT% filtering (<= {thresholds['max_mt_pct']}%): {adata.n_obs} cells\")\n",
        "\n",
        "    print(f\"Final dataset: {adata.n_obs} cells, {adata.n_vars} genes\")\n",
        "    return adata"
      ],
      "metadata": {
        "id": "8AdggqPG23E5"
      },
      "execution_count": null,
      "outputs": []
    },
    {
      "cell_type": "code",
      "source": [
        "def process_adata(adata, thresholds=None, analyze_qc=False):\n",
        "    \"\"\"\n",
        "    Process an existing AnnData object: calculate QC metrics, analyze QC, and apply filtering.\n",
        "\n",
        "    Parameters:\n",
        "    -----------\n",
        "    adata : AnnData\n",
        "        Pre-loaded AnnData object\n",
        "    thresholds : dict, optional\n",
        "        Pre-defined filtering thresholds. If None, thresholds will be calculated from the data\n",
        "    analyze_qc : bool\n",
        "        Whether to perform QC analysis and plotting\n",
        "\n",
        "    Returns:\n",
        "    --------\n",
        "    adata : AnnData\n",
        "        Processed and filtered AnnData object\n",
        "    thresholds : dict\n",
        "        Filtering thresholds used (useful for applying same thresholds to other samples)\n",
        "    \"\"\"\n",
        "    print(f\"\\n{'='*50}\")\n",
        "    print(f\"Processing AnnData object with {adata.n_obs} cells and {adata.n_vars} genes\")\n",
        "    print(f\"{'='*50}\")\n",
        "\n",
        "    # Calculate QC metrics\n",
        "    adata = calculate_qc_metrics(adata)\n",
        "\n",
        "    # Analyze QC and get thresholds (or use provided ones)\n",
        "    if thresholds is None:\n",
        "        thresholds = analyze_qc_and_get_thresholds(adata, plot=analyze_qc)\n",
        "    else:\n",
        "        print(\"Using provided thresholds:\")\n",
        "        for key, value in thresholds.items():\n",
        "            print(f\"  {key}: {value}\")\n",
        "\n",
        "    # Apply filtering\n",
        "    adata = apply_filtering(adata, thresholds)\n",
        "\n",
        "    print(f\"Successfully processed AnnData object\")\n",
        "    return adata"
      ],
      "metadata": {
        "id": "DQCl87NS25hP"
      },
      "execution_count": null,
      "outputs": []
    },
    {
      "cell_type": "code",
      "source": [
        "healthy_adata = load_and_merge_samples(healthy_samples, group_name=\"healthy\")"
      ],
      "metadata": {
        "colab": {
          "base_uri": "https://localhost:8080/"
        },
        "id": "pzQH53Yw1PQf",
        "outputId": "b285d3ea-47e0-410d-9461-fdff8baaa39e"
      },
      "execution_count": null,
      "outputs": [
        {
          "output_type": "stream",
          "name": "stdout",
          "text": [
            "Loading sample: GSM4041150_healthy1_cd45+\n",
            "Loading sample: GSM4041151_healthy1_cd45-A\n",
            "Loading sample: GSM4041152_healthy1_cd45-B\n",
            "Loading sample: GSM4041153_healthy2_cd45+\n",
            "Loading sample: GSM4041154_healthy2_cd45-\n",
            "Loading sample: GSM4041155_healthy3_cd45+\n",
            "Loading sample: GSM4041156_healthy3_cd45-A\n",
            "Loading sample: GSM4041157_healthy3_cd45-B\n",
            "Loading sample: GSM4041158_healthy4_cd45+\n",
            "Loading sample: GSM4041159_healthy4_cd45-\n",
            "Loading sample: GSM4041160_healthy5_cd45+\n",
            "Merged healthy dataset: 35685 cells, 33694 genes\n",
            "Var columns: ['gene_symbols']\n"
          ]
        },
        {
          "output_type": "stream",
          "name": "stderr",
          "text": [
            "/usr/local/lib/python3.12/dist-packages/anndata/_core/anndata.py:1791: UserWarning: Observation names are not unique. To make them unique, call `.obs_names_make_unique`.\n",
            "  utils.warn_names_duplicates(\"obs\")\n"
          ]
        }
      ]
    },
    {
      "cell_type": "code",
      "source": [
        "cirrhotic_adata = load_and_merge_samples(diseased_samples, group_name=\"diseased\")"
      ],
      "metadata": {
        "colab": {
          "base_uri": "https://localhost:8080/"
        },
        "id": "Dri5DPyK2WaW",
        "outputId": "6afc8040-7914-4d51-d78b-cb6306bbe920"
      },
      "execution_count": null,
      "outputs": [
        {
          "output_type": "stream",
          "name": "stdout",
          "text": [
            "Loading sample: GSM4041161_cirrhotic1_cd45+\n",
            "Loading sample: GSM4041162_cirrhotic1_cd45-A\n",
            "Loading sample: GSM4041163_cirrhotic1_cd45-B\n",
            "Loading sample: GSM4041164_cirrhotic2_cd45+\n",
            "Loading sample: GSM4041165_cirrhotic2_cd45-\n",
            "Loading sample: GSM4041166_cirrhotic3_cd45+\n",
            "Loading sample: GSM4041167_cirrhotic3_cd45-\n",
            "Loading sample: GSM4041168_cirrhotic4_cd45+\n",
            "Loading sample: GSM4041169_cirrhotic5_cd45+\n",
            "Merged diseased dataset: 26525 cells, 33694 genes\n",
            "Var columns: ['gene_symbols']\n"
          ]
        },
        {
          "output_type": "stream",
          "name": "stderr",
          "text": [
            "/usr/local/lib/python3.12/dist-packages/anndata/_core/anndata.py:1791: UserWarning: Observation names are not unique. To make them unique, call `.obs_names_make_unique`.\n",
            "  utils.warn_names_duplicates(\"obs\")\n"
          ]
        }
      ]
    },
    {
      "cell_type": "code",
      "source": [
        "healthy_adata"
      ],
      "metadata": {
        "colab": {
          "base_uri": "https://localhost:8080/"
        },
        "id": "Gx71numI3C8Z",
        "outputId": "1646b8b2-d03a-4a0f-c6c4-bd686ec13dda"
      },
      "execution_count": null,
      "outputs": [
        {
          "output_type": "execute_result",
          "data": {
            "text/plain": [
              "AnnData object with n_obs × n_vars = 35685 × 33694\n",
              "    obs: 'sample_id', 'batch', 'group'\n",
              "    var: 'gene_symbols'"
            ]
          },
          "metadata": {},
          "execution_count": 62
        }
      ]
    },
    {
      "cell_type": "code",
      "source": [
        "healthy_adata.var"
      ],
      "metadata": {
        "colab": {
          "base_uri": "https://localhost:8080/",
          "height": 423
        },
        "id": "mMthJZTA33dy",
        "outputId": "55d68fde-37a9-4725-b715-316d86d93032"
      },
      "execution_count": null,
      "outputs": [
        {
          "output_type": "execute_result",
          "data": {
            "text/plain": [
              "                 gene_symbols\n",
              "ENSG00000243485  RP11-34P13.3\n",
              "ENSG00000237613       FAM138A\n",
              "ENSG00000186092         OR4F5\n",
              "ENSG00000238009  RP11-34P13.7\n",
              "ENSG00000239945  RP11-34P13.8\n",
              "...                       ...\n",
              "ENSG00000277856    AC233755.2\n",
              "ENSG00000275063    AC233755.1\n",
              "ENSG00000271254    AC240274.1\n",
              "ENSG00000277475    AC213203.1\n",
              "ENSG00000268674       FAM231B\n",
              "\n",
              "[33694 rows x 1 columns]"
            ],
            "text/html": [
              "\n",
              "  <div id=\"df-39d2f668-a8a6-4b64-a258-1e9026d5cb15\" class=\"colab-df-container\">\n",
              "    <div>\n",
              "<style scoped>\n",
              "    .dataframe tbody tr th:only-of-type {\n",
              "        vertical-align: middle;\n",
              "    }\n",
              "\n",
              "    .dataframe tbody tr th {\n",
              "        vertical-align: top;\n",
              "    }\n",
              "\n",
              "    .dataframe thead th {\n",
              "        text-align: right;\n",
              "    }\n",
              "</style>\n",
              "<table border=\"1\" class=\"dataframe\">\n",
              "  <thead>\n",
              "    <tr style=\"text-align: right;\">\n",
              "      <th></th>\n",
              "      <th>gene_symbols</th>\n",
              "    </tr>\n",
              "  </thead>\n",
              "  <tbody>\n",
              "    <tr>\n",
              "      <th>ENSG00000243485</th>\n",
              "      <td>RP11-34P13.3</td>\n",
              "    </tr>\n",
              "    <tr>\n",
              "      <th>ENSG00000237613</th>\n",
              "      <td>FAM138A</td>\n",
              "    </tr>\n",
              "    <tr>\n",
              "      <th>ENSG00000186092</th>\n",
              "      <td>OR4F5</td>\n",
              "    </tr>\n",
              "    <tr>\n",
              "      <th>ENSG00000238009</th>\n",
              "      <td>RP11-34P13.7</td>\n",
              "    </tr>\n",
              "    <tr>\n",
              "      <th>ENSG00000239945</th>\n",
              "      <td>RP11-34P13.8</td>\n",
              "    </tr>\n",
              "    <tr>\n",
              "      <th>...</th>\n",
              "      <td>...</td>\n",
              "    </tr>\n",
              "    <tr>\n",
              "      <th>ENSG00000277856</th>\n",
              "      <td>AC233755.2</td>\n",
              "    </tr>\n",
              "    <tr>\n",
              "      <th>ENSG00000275063</th>\n",
              "      <td>AC233755.1</td>\n",
              "    </tr>\n",
              "    <tr>\n",
              "      <th>ENSG00000271254</th>\n",
              "      <td>AC240274.1</td>\n",
              "    </tr>\n",
              "    <tr>\n",
              "      <th>ENSG00000277475</th>\n",
              "      <td>AC213203.1</td>\n",
              "    </tr>\n",
              "    <tr>\n",
              "      <th>ENSG00000268674</th>\n",
              "      <td>FAM231B</td>\n",
              "    </tr>\n",
              "  </tbody>\n",
              "</table>\n",
              "<p>33694 rows × 1 columns</p>\n",
              "</div>\n",
              "    <div class=\"colab-df-buttons\">\n",
              "\n",
              "  <div class=\"colab-df-container\">\n",
              "    <button class=\"colab-df-convert\" onclick=\"convertToInteractive('df-39d2f668-a8a6-4b64-a258-1e9026d5cb15')\"\n",
              "            title=\"Convert this dataframe to an interactive table.\"\n",
              "            style=\"display:none;\">\n",
              "\n",
              "  <svg xmlns=\"http://www.w3.org/2000/svg\" height=\"24px\" viewBox=\"0 -960 960 960\">\n",
              "    <path d=\"M120-120v-720h720v720H120Zm60-500h600v-160H180v160Zm220 220h160v-160H400v160Zm0 220h160v-160H400v160ZM180-400h160v-160H180v160Zm440 0h160v-160H620v160ZM180-180h160v-160H180v160Zm440 0h160v-160H620v160Z\"/>\n",
              "  </svg>\n",
              "    </button>\n",
              "\n",
              "  <style>\n",
              "    .colab-df-container {\n",
              "      display:flex;\n",
              "      gap: 12px;\n",
              "    }\n",
              "\n",
              "    .colab-df-convert {\n",
              "      background-color: #E8F0FE;\n",
              "      border: none;\n",
              "      border-radius: 50%;\n",
              "      cursor: pointer;\n",
              "      display: none;\n",
              "      fill: #1967D2;\n",
              "      height: 32px;\n",
              "      padding: 0 0 0 0;\n",
              "      width: 32px;\n",
              "    }\n",
              "\n",
              "    .colab-df-convert:hover {\n",
              "      background-color: #E2EBFA;\n",
              "      box-shadow: 0px 1px 2px rgba(60, 64, 67, 0.3), 0px 1px 3px 1px rgba(60, 64, 67, 0.15);\n",
              "      fill: #174EA6;\n",
              "    }\n",
              "\n",
              "    .colab-df-buttons div {\n",
              "      margin-bottom: 4px;\n",
              "    }\n",
              "\n",
              "    [theme=dark] .colab-df-convert {\n",
              "      background-color: #3B4455;\n",
              "      fill: #D2E3FC;\n",
              "    }\n",
              "\n",
              "    [theme=dark] .colab-df-convert:hover {\n",
              "      background-color: #434B5C;\n",
              "      box-shadow: 0px 1px 3px 1px rgba(0, 0, 0, 0.15);\n",
              "      filter: drop-shadow(0px 1px 2px rgba(0, 0, 0, 0.3));\n",
              "      fill: #FFFFFF;\n",
              "    }\n",
              "  </style>\n",
              "\n",
              "    <script>\n",
              "      const buttonEl =\n",
              "        document.querySelector('#df-39d2f668-a8a6-4b64-a258-1e9026d5cb15 button.colab-df-convert');\n",
              "      buttonEl.style.display =\n",
              "        google.colab.kernel.accessAllowed ? 'block' : 'none';\n",
              "\n",
              "      async function convertToInteractive(key) {\n",
              "        const element = document.querySelector('#df-39d2f668-a8a6-4b64-a258-1e9026d5cb15');\n",
              "        const dataTable =\n",
              "          await google.colab.kernel.invokeFunction('convertToInteractive',\n",
              "                                                    [key], {});\n",
              "        if (!dataTable) return;\n",
              "\n",
              "        const docLinkHtml = 'Like what you see? Visit the ' +\n",
              "          '<a target=\"_blank\" href=https://colab.research.google.com/notebooks/data_table.ipynb>data table notebook</a>'\n",
              "          + ' to learn more about interactive tables.';\n",
              "        element.innerHTML = '';\n",
              "        dataTable['output_type'] = 'display_data';\n",
              "        await google.colab.output.renderOutput(dataTable, element);\n",
              "        const docLink = document.createElement('div');\n",
              "        docLink.innerHTML = docLinkHtml;\n",
              "        element.appendChild(docLink);\n",
              "      }\n",
              "    </script>\n",
              "  </div>\n",
              "\n",
              "\n",
              "    <div id=\"df-b32c52c7-b11b-4770-a0e4-92f5e6dc31a8\">\n",
              "      <button class=\"colab-df-quickchart\" onclick=\"quickchart('df-b32c52c7-b11b-4770-a0e4-92f5e6dc31a8')\"\n",
              "                title=\"Suggest charts\"\n",
              "                style=\"display:none;\">\n",
              "\n",
              "<svg xmlns=\"http://www.w3.org/2000/svg\" height=\"24px\"viewBox=\"0 0 24 24\"\n",
              "     width=\"24px\">\n",
              "    <g>\n",
              "        <path d=\"M19 3H5c-1.1 0-2 .9-2 2v14c0 1.1.9 2 2 2h14c1.1 0 2-.9 2-2V5c0-1.1-.9-2-2-2zM9 17H7v-7h2v7zm4 0h-2V7h2v10zm4 0h-2v-4h2v4z\"/>\n",
              "    </g>\n",
              "</svg>\n",
              "      </button>\n",
              "\n",
              "<style>\n",
              "  .colab-df-quickchart {\n",
              "      --bg-color: #E8F0FE;\n",
              "      --fill-color: #1967D2;\n",
              "      --hover-bg-color: #E2EBFA;\n",
              "      --hover-fill-color: #174EA6;\n",
              "      --disabled-fill-color: #AAA;\n",
              "      --disabled-bg-color: #DDD;\n",
              "  }\n",
              "\n",
              "  [theme=dark] .colab-df-quickchart {\n",
              "      --bg-color: #3B4455;\n",
              "      --fill-color: #D2E3FC;\n",
              "      --hover-bg-color: #434B5C;\n",
              "      --hover-fill-color: #FFFFFF;\n",
              "      --disabled-bg-color: #3B4455;\n",
              "      --disabled-fill-color: #666;\n",
              "  }\n",
              "\n",
              "  .colab-df-quickchart {\n",
              "    background-color: var(--bg-color);\n",
              "    border: none;\n",
              "    border-radius: 50%;\n",
              "    cursor: pointer;\n",
              "    display: none;\n",
              "    fill: var(--fill-color);\n",
              "    height: 32px;\n",
              "    padding: 0;\n",
              "    width: 32px;\n",
              "  }\n",
              "\n",
              "  .colab-df-quickchart:hover {\n",
              "    background-color: var(--hover-bg-color);\n",
              "    box-shadow: 0 1px 2px rgba(60, 64, 67, 0.3), 0 1px 3px 1px rgba(60, 64, 67, 0.15);\n",
              "    fill: var(--button-hover-fill-color);\n",
              "  }\n",
              "\n",
              "  .colab-df-quickchart-complete:disabled,\n",
              "  .colab-df-quickchart-complete:disabled:hover {\n",
              "    background-color: var(--disabled-bg-color);\n",
              "    fill: var(--disabled-fill-color);\n",
              "    box-shadow: none;\n",
              "  }\n",
              "\n",
              "  .colab-df-spinner {\n",
              "    border: 2px solid var(--fill-color);\n",
              "    border-color: transparent;\n",
              "    border-bottom-color: var(--fill-color);\n",
              "    animation:\n",
              "      spin 1s steps(1) infinite;\n",
              "  }\n",
              "\n",
              "  @keyframes spin {\n",
              "    0% {\n",
              "      border-color: transparent;\n",
              "      border-bottom-color: var(--fill-color);\n",
              "      border-left-color: var(--fill-color);\n",
              "    }\n",
              "    20% {\n",
              "      border-color: transparent;\n",
              "      border-left-color: var(--fill-color);\n",
              "      border-top-color: var(--fill-color);\n",
              "    }\n",
              "    30% {\n",
              "      border-color: transparent;\n",
              "      border-left-color: var(--fill-color);\n",
              "      border-top-color: var(--fill-color);\n",
              "      border-right-color: var(--fill-color);\n",
              "    }\n",
              "    40% {\n",
              "      border-color: transparent;\n",
              "      border-right-color: var(--fill-color);\n",
              "      border-top-color: var(--fill-color);\n",
              "    }\n",
              "    60% {\n",
              "      border-color: transparent;\n",
              "      border-right-color: var(--fill-color);\n",
              "    }\n",
              "    80% {\n",
              "      border-color: transparent;\n",
              "      border-right-color: var(--fill-color);\n",
              "      border-bottom-color: var(--fill-color);\n",
              "    }\n",
              "    90% {\n",
              "      border-color: transparent;\n",
              "      border-bottom-color: var(--fill-color);\n",
              "    }\n",
              "  }\n",
              "</style>\n",
              "\n",
              "      <script>\n",
              "        async function quickchart(key) {\n",
              "          const quickchartButtonEl =\n",
              "            document.querySelector('#' + key + ' button');\n",
              "          quickchartButtonEl.disabled = true;  // To prevent multiple clicks.\n",
              "          quickchartButtonEl.classList.add('colab-df-spinner');\n",
              "          try {\n",
              "            const charts = await google.colab.kernel.invokeFunction(\n",
              "                'suggestCharts', [key], {});\n",
              "          } catch (error) {\n",
              "            console.error('Error during call to suggestCharts:', error);\n",
              "          }\n",
              "          quickchartButtonEl.classList.remove('colab-df-spinner');\n",
              "          quickchartButtonEl.classList.add('colab-df-quickchart-complete');\n",
              "        }\n",
              "        (() => {\n",
              "          let quickchartButtonEl =\n",
              "            document.querySelector('#df-b32c52c7-b11b-4770-a0e4-92f5e6dc31a8 button');\n",
              "          quickchartButtonEl.style.display =\n",
              "            google.colab.kernel.accessAllowed ? 'block' : 'none';\n",
              "        })();\n",
              "      </script>\n",
              "    </div>\n",
              "\n",
              "    </div>\n",
              "  </div>\n"
            ],
            "application/vnd.google.colaboratory.intrinsic+json": {
              "type": "dataframe",
              "summary": "{\n  \"name\": \"healthy_adata\",\n  \"rows\": 33694,\n  \"fields\": [\n    {\n      \"column\": \"gene_symbols\",\n      \"properties\": {\n        \"dtype\": \"string\",\n        \"num_unique_values\": 33660,\n        \"samples\": [\n          \"STARD3NL\",\n          \"KLRK1\",\n          \"RP11-603J24.9\"\n        ],\n        \"semantic_type\": \"\",\n        \"description\": \"\"\n      }\n    }\n  ]\n}"
            }
          },
          "metadata": {},
          "execution_count": 63
        }
      ]
    },
    {
      "cell_type": "code",
      "source": [
        "healthy_adata_processed = process_adata(healthy_adata)"
      ],
      "metadata": {
        "colab": {
          "base_uri": "https://localhost:8080/"
        },
        "id": "GkwXQQKP7MNB",
        "outputId": "24d58a5a-eaba-461b-b438-a9d91a246f3f"
      },
      "execution_count": null,
      "outputs": [
        {
          "output_type": "stream",
          "name": "stdout",
          "text": [
            "\n",
            "==================================================\n",
            "Processing AnnData object with 35685 cells and 17934 genes\n",
            "==================================================\n",
            "Calculating QC metrics...\n",
            "MT genes detected: 13\n",
            "Ribosomal genes detected: 100\n",
            "Hemoglobin genes detected: 7\n",
            "Mean MT%: 4.89%\n",
            "Mean ribosomal%: 27.21%\n",
            " \n",
            "=== QC METRICS ANALYSIS ===\n",
            "Total cells: 35685\n",
            "Total genes: 17934\n",
            " \n",
            "=== PER-CELL METRICS ===\n",
            "n_genes_by_counts:\n",
            "  Mean: 1237.9\n",
            "  Median: 1106.0\n",
            "  5th-95th percentile: 458.0 - 2673.0\n",
            "total_counts:\n",
            "  Mean: 3936.6\n",
            "  Median: 2992.0\n",
            "  5th-95th percentile: 866.0 - 10773.0\n",
            "pct_counts_mt:\n",
            "  Mean: 4.9\n",
            "  Median: 3.1\n",
            "  5th-95th percentile: 1.1 - 8.4\n",
            "pct_counts_ribo:\n",
            "  Mean: 27.2\n",
            "  Median: 27.0\n",
            "  5th-95th percentile: 11.6 - 43.8\n",
            " \n",
            "=== SUGGESTED FILTERING THRESHOLDS ===\n",
            "Genes per cell: 458 - 2673\n",
            "UMI counts: 866 - 10772\n",
            "MT percentage: < 6.2%\n",
            "Genes expressed in >= 35 cells\n",
            "Estimated retention:\n",
            "Cells: 28306 / 35685 (79.3%)\n",
            "Genes: 17934 / 17934 (100.0%)\n",
            " \n",
            "=== APPLYING FILTERING ===\n",
            "Before filtering: 35685 cells, 17934 genes\n",
            "After gene filtering (>= 35 cells): 17934 genes\n",
            "After min genes filtering (>= 458): 33904 cells\n",
            "After max genes filtering (<= 2673): 32120 cells\n",
            "After min UMI filtering (>= 866): 31509 cells\n",
            "After max UMI filtering (<= 10772): 31100 cells\n",
            "After MT% filtering (<= 6.2%): 28306 cells\n",
            "Final dataset: 28306 cells, 17934 genes\n",
            "Successfully processed AnnData object\n"
          ]
        },
        {
          "output_type": "stream",
          "name": "stderr",
          "text": [
            "/usr/local/lib/python3.12/dist-packages/anndata/_core/anndata.py:1791: UserWarning: Observation names are not unique. To make them unique, call `.obs_names_make_unique`.\n",
            "  utils.warn_names_duplicates(\"obs\")\n"
          ]
        }
      ]
    },
    {
      "cell_type": "code",
      "source": [
        "# Save as .h5ad\n",
        "healthy_adata_processed.write(\"/content/drive/MyDrive/projects/scGPT-MAFLD/data/healthy_samples.h5ad\")"
      ],
      "metadata": {
        "colab": {
          "base_uri": "https://localhost:8080/"
        },
        "id": "8YMddi-f_l04",
        "outputId": "285f12e8-f442-4f99-bda1-ae2f3cf874c8"
      },
      "execution_count": null,
      "outputs": [
        {
          "output_type": "stream",
          "name": "stderr",
          "text": [
            "/usr/local/lib/python3.12/dist-packages/anndata/_core/anndata.py:1175: ImplicitModificationWarning: Trying to modify attribute `.obs` of view, initializing view as actual.\n",
            "  df[key] = c\n",
            "/usr/local/lib/python3.12/dist-packages/anndata/_core/anndata.py:1791: UserWarning: Observation names are not unique. To make them unique, call `.obs_names_make_unique`.\n",
            "  utils.warn_names_duplicates(\"obs\")\n",
            "/usr/local/lib/python3.12/dist-packages/anndata/_core/anndata.py:1175: ImplicitModificationWarning: Trying to modify attribute `.obs` of view, initializing view as actual.\n",
            "  df[key] = c\n",
            "/usr/local/lib/python3.12/dist-packages/anndata/_core/anndata.py:1791: UserWarning: Observation names are not unique. To make them unique, call `.obs_names_make_unique`.\n",
            "  utils.warn_names_duplicates(\"obs\")\n",
            "/usr/local/lib/python3.12/dist-packages/anndata/_core/anndata.py:1175: ImplicitModificationWarning: Trying to modify attribute `.obs` of view, initializing view as actual.\n",
            "  df[key] = c\n",
            "/usr/local/lib/python3.12/dist-packages/anndata/_core/anndata.py:1791: UserWarning: Observation names are not unique. To make them unique, call `.obs_names_make_unique`.\n",
            "  utils.warn_names_duplicates(\"obs\")\n",
            "/usr/local/lib/python3.12/dist-packages/anndata/_core/anndata.py:1175: ImplicitModificationWarning: Trying to modify attribute `.var` of view, initializing view as actual.\n",
            "  df[key] = c\n",
            "/usr/local/lib/python3.12/dist-packages/anndata/_core/anndata.py:1791: UserWarning: Observation names are not unique. To make them unique, call `.obs_names_make_unique`.\n",
            "  utils.warn_names_duplicates(\"obs\")\n"
          ]
        }
      ]
    },
    {
      "cell_type": "code",
      "source": [
        "cirrhotic_adata_processed = process_adata(cirrhotic_adata)"
      ],
      "metadata": {
        "colab": {
          "base_uri": "https://localhost:8080/"
        },
        "id": "z2UOux8i9fVw",
        "outputId": "f602684b-cefa-4b39-c258-56617ed1e24e"
      },
      "execution_count": null,
      "outputs": [
        {
          "output_type": "stream",
          "name": "stdout",
          "text": [
            "\n",
            "==================================================\n",
            "Processing AnnData object with 26525 cells and 33694 genes\n",
            "==================================================\n",
            "Calculating QC metrics...\n",
            "MT genes detected: 13\n",
            "Ribosomal genes detected: 103\n",
            "Hemoglobin genes detected: 12\n",
            "Mean MT%: 6.15%\n",
            "Mean ribosomal%: 27.68%\n",
            " \n",
            "=== QC METRICS ANALYSIS ===\n",
            "Total cells: 26525\n",
            "Total genes: 33694\n",
            " \n",
            "=== PER-CELL METRICS ===\n",
            "n_genes_by_counts:\n",
            "  Mean: 1611.5\n",
            "  Median: 1384.0\n",
            "  5th-95th percentile: 805.2 - 3129.0\n",
            "total_counts:\n",
            "  Mean: 5699.9\n",
            "  Median: 4151.0\n",
            "  5th-95th percentile: 2216.0 - 14030.8\n",
            "pct_counts_mt:\n",
            "  Mean: 6.2\n",
            "  Median: 3.6\n",
            "  5th-95th percentile: 1.6 - 15.5\n",
            "pct_counts_ribo:\n",
            "  Mean: 27.7\n",
            "  Median: 27.2\n",
            "  5th-95th percentile: 11.1 - 45.0\n",
            " \n",
            "=== SUGGESTED FILTERING THRESHOLDS ===\n",
            "Genes per cell: 805 - 3129\n",
            "UMI counts: 2216 - 14030\n",
            "MT percentage: < 7.0%\n",
            "Genes expressed in >= 26 cells\n",
            "Estimated retention:\n",
            "Cells: 19605 / 26525 (73.9%)\n",
            "Genes: 18916 / 33694 (56.1%)\n",
            " \n",
            "=== APPLYING FILTERING ===\n",
            "Before filtering: 26525 cells, 33694 genes\n",
            "After gene filtering (>= 26 cells): 18916 genes\n",
            "After min genes filtering (>= 805): 25210 cells\n",
            "After max genes filtering (<= 3129): 23884 cells\n",
            "After min UMI filtering (>= 2216): 23002 cells\n",
            "After max UMI filtering (<= 14030): 22510 cells\n",
            "After MT% filtering (<= 7.0%): 19605 cells\n",
            "Final dataset: 19605 cells, 18916 genes\n",
            "Successfully processed AnnData object\n"
          ]
        },
        {
          "output_type": "stream",
          "name": "stderr",
          "text": [
            "/usr/local/lib/python3.12/dist-packages/anndata/_core/anndata.py:1791: UserWarning: Observation names are not unique. To make them unique, call `.obs_names_make_unique`.\n",
            "  utils.warn_names_duplicates(\"obs\")\n"
          ]
        }
      ]
    },
    {
      "cell_type": "code",
      "source": [
        "cirrhotic_adata_processed.write(\"/content/drive/MyDrive/projects/scGPT-MAFLD/data/cirrhotic_samples.h5ad\")"
      ],
      "metadata": {
        "colab": {
          "base_uri": "https://localhost:8080/"
        },
        "id": "6aDyRtkW_XCg",
        "outputId": "9b720318-9071-4d55-bc83-c83e6634e171"
      },
      "execution_count": null,
      "outputs": [
        {
          "output_type": "stream",
          "name": "stderr",
          "text": [
            "/usr/local/lib/python3.12/dist-packages/anndata/_core/anndata.py:1175: ImplicitModificationWarning: Trying to modify attribute `.obs` of view, initializing view as actual.\n",
            "  df[key] = c\n",
            "/usr/local/lib/python3.12/dist-packages/anndata/_core/anndata.py:1791: UserWarning: Observation names are not unique. To make them unique, call `.obs_names_make_unique`.\n",
            "  utils.warn_names_duplicates(\"obs\")\n",
            "/usr/local/lib/python3.12/dist-packages/anndata/_core/anndata.py:1175: ImplicitModificationWarning: Trying to modify attribute `.obs` of view, initializing view as actual.\n",
            "  df[key] = c\n",
            "/usr/local/lib/python3.12/dist-packages/anndata/_core/anndata.py:1791: UserWarning: Observation names are not unique. To make them unique, call `.obs_names_make_unique`.\n",
            "  utils.warn_names_duplicates(\"obs\")\n",
            "/usr/local/lib/python3.12/dist-packages/anndata/_core/anndata.py:1175: ImplicitModificationWarning: Trying to modify attribute `.obs` of view, initializing view as actual.\n",
            "  df[key] = c\n",
            "/usr/local/lib/python3.12/dist-packages/anndata/_core/anndata.py:1791: UserWarning: Observation names are not unique. To make them unique, call `.obs_names_make_unique`.\n",
            "  utils.warn_names_duplicates(\"obs\")\n",
            "/usr/local/lib/python3.12/dist-packages/anndata/_core/anndata.py:1175: ImplicitModificationWarning: Trying to modify attribute `.var` of view, initializing view as actual.\n",
            "  df[key] = c\n",
            "/usr/local/lib/python3.12/dist-packages/anndata/_core/anndata.py:1791: UserWarning: Observation names are not unique. To make them unique, call `.obs_names_make_unique`.\n",
            "  utils.warn_names_duplicates(\"obs\")\n"
          ]
        }
      ]
    }
  ]
}