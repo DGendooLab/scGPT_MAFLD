{
 "cells": [
  {
   "cell_type": "code",
   "execution_count": null,
   "metadata": {
    "colab": {
     "base_uri": "https://localhost:8080/",
     "height": 1000
    },
    "executionInfo": {
     "elapsed": 2235998,
     "status": "error",
     "timestamp": 1757067774487,
     "user": {
      "displayName": "Sanat Chitnis",
      "userId": "08765250532425351179"
     },
     "user_tz": -60
    },
    "id": "X1eQmlWF7Lvk",
    "outputId": "c3276e8f-9d7c-4567-f66f-7f7fa035ad01",
    "vscode": {
     "languageId": "r"
    }
   },
   "outputs": [],
   "source": [
    "install.packages(\"remotes\")"
   ]
  },
  {
   "cell_type": "code",
   "execution_count": null,
   "metadata": {
    "vscode": {
     "languageId": "r"
    }
   },
   "outputs": [],
   "source": [
    "remotes::install_github(\"satijalab/azimuth\")\n",
    "library(Azimuth)"
   ]
  },
  {
   "cell_type": "code",
   "execution_count": null,
   "metadata": {
    "colab": {
     "base_uri": "https://localhost:8080/"
    },
    "executionInfo": {
     "elapsed": 48958,
     "status": "ok",
     "timestamp": 1757064780576,
     "user": {
      "displayName": "Sanat Chitnis",
      "userId": "08765250532425351179"
     },
     "user_tz": -60
    },
    "id": "h2I1k_r77eI1",
    "outputId": "94ae68d4-bfa4-4f9a-bbc0-0d01e9b9a9e2",
    "vscode": {
     "languageId": "r"
    }
   },
   "outputs": [],
   "source": [
    "remotes::install_github(\"mojaveazure/seurat-disk\")\n",
    "\n",
    "install.packages(\"Seurat\")\n",
    "install.packages(\"hdf5r\")"
   ]
  },
  {
   "cell_type": "code",
   "execution_count": 7,
   "metadata": {
    "executionInfo": {
     "elapsed": 2796,
     "status": "ok",
     "timestamp": 1757064947511,
     "user": {
      "displayName": "Sanat Chitnis",
      "userId": "08765250532425351179"
     },
     "user_tz": -60
    },
    "id": "mK7icJ2H7tV1",
    "vscode": {
     "languageId": "r"
    }
   },
   "outputs": [],
   "source": [
    "# Load your Seurat object\n",
    "seurat_obj <- readRDS(\"/content/ref.Rds\")"
   ]
  },
  {
   "cell_type": "code",
   "execution_count": null,
   "metadata": {
    "colab": {
     "base_uri": "https://localhost:8080/",
     "height": 72
    },
    "executionInfo": {
     "elapsed": 25,
     "status": "error",
     "timestamp": 1757064948909,
     "user": {
      "displayName": "Sanat Chitnis",
      "userId": "08765250532425351179"
     },
     "user_tz": -60
    },
    "id": "LyOpv--B7xxb",
    "outputId": "68b0cbc2-9a55-4611-cd81-e7fc82583189",
    "vscode": {
     "languageId": "r"
    }
   },
   "outputs": [],
   "source": [
    "# Save as .h5Seurat\n",
    "SaveH5Seurat(seurat_obj, filename = \"ref.h5seurat\", overwrite = TRUE)"
   ]
  },
  {
   "cell_type": "code",
   "execution_count": null,
   "metadata": {
    "id": "_niAF7m_7zpO",
    "vscode": {
     "languageId": "r"
    }
   },
   "outputs": [],
   "source": [
    "# Convert to .h5ad\n",
    "Convert(\"ref.h5seurat\", dest = \"h5ad\", overwrite = TRUE)"
   ]
  }
 ],
 "metadata": {
  "colab": {
   "authorship_tag": "ABX9TyP3MXRgUzsBfyJcN6DIsGKi",
   "provenance": []
  },
  "kernelspec": {
   "display_name": "R",
   "name": "ir"
  },
  "language_info": {
   "name": "R"
  }
 },
 "nbformat": 4,
 "nbformat_minor": 0
}
